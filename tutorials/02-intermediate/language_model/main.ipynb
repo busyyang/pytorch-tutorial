{
 "cells": [
  {
   "cell_type": "markdown",
   "metadata": {},
   "source": [
    "来自：https://github.com/pytorch/examples/tree/master/word_language_model "
   ]
  },
  {
   "cell_type": "markdown",
   "metadata": {},
   "source": [
    "导入需要使用到的包"
   ]
  },
  {
   "cell_type": "code",
   "execution_count": 1,
   "metadata": {},
   "outputs": [],
   "source": [
    "import torch\n",
    "import torch.nn as nn\n",
    "import numpy as np\n",
    "from torch.nn.utils import clip_grad_norm_"
   ]
  },
  {
   "cell_type": "markdown",
   "metadata": {},
   "source": [
    "这里还有一个`data_utils.py`文件，先看下文件中的内容。这里面主要是有两个class的定义：\n",
    " - Dictionary：字典，文字与序号的正反变换\n",
    " - Corpus：语料，将文字转化为数字，变换关系按照Dictionary进行"
   ]
  },
  {
   "cell_type": "code",
   "execution_count": 6,
   "metadata": {},
   "outputs": [],
   "source": [
    "class Dictionary(object):\n",
    "    def __init__(self):\n",
    "        self.word2idx = {}\n",
    "        self.idx2word = {}\n",
    "        self.idx = 0\n",
    "    \n",
    "    def add_word(self, word):\n",
    "        if not word in self.word2idx:\n",
    "            self.word2idx[word] = self.idx\n",
    "            self.idx2word[self.idx] = word\n",
    "            self.idx += 1\n",
    "    \n",
    "    def __len__(self):\n",
    "        return len(self.word2idx)"
   ]
  },
  {
   "cell_type": "code",
   "execution_count": 7,
   "metadata": {},
   "outputs": [],
   "source": [
    "import torch\n",
    "class Corpus(object):\n",
    "    def __init__(self):\n",
    "        self.dictionary = Dictionary()\n",
    "\n",
    "    def get_data(self, path, batch_size=20):\n",
    "        # 添加词语到字典中\n",
    "        with open(path, 'r') as f:\n",
    "            tokens = 0\n",
    "            for line in f:\n",
    "                words = line.split() + ['<eos>']\n",
    "                tokens += len(words)\n",
    "                for word in words: \n",
    "                    self.dictionary.add_word(word)  \n",
    "        \n",
    "        # 标记解析文件，将所有的文字转化为数字，对应关系按照Dictionary执行\n",
    "        ids = torch.LongTensor(tokens)\n",
    "        token = 0\n",
    "        with open(path, 'r') as f:\n",
    "            for line in f:\n",
    "                words = line.split() + ['<eos>']\n",
    "                for word in words:\n",
    "                    ids[token] = self.dictionary.word2idx[word]\n",
    "                    token += 1\n",
    "        num_batches = ids.size(0) // batch_size\n",
    "        ids = ids[:num_batches*batch_size]\n",
    "        return ids.view(batch_size, -1)"
   ]
  },
  {
   "cell_type": "markdown",
   "metadata": {},
   "source": [
    "配置超参数"
   ]
  },
  {
   "cell_type": "code",
   "execution_count": 18,
   "metadata": {},
   "outputs": [],
   "source": [
    "embed_size = 128\n",
    "hidden_size = 1024\n",
    "num_layers = 1\n",
    "num_epochs = 5\n",
    "num_samples = 1000     # 取多少个点用于单次的LSTM输入\n",
    "batch_size = 20\n",
    "seq_length = 30\n",
    "learning_rate = 0.002\n",
    "device = torch.device('cuda' if torch.cuda.is_available() else 'cpu')\n"
   ]
  },
  {
   "cell_type": "markdown",
   "metadata": {},
   "source": [
    "加载数据集"
   ]
  },
  {
   "cell_type": "code",
   "execution_count": 10,
   "metadata": {},
   "outputs": [],
   "source": [
    "corpus = Corpus()\n",
    "ids = corpus.get_data('data/train.txt', batch_size)\n",
    "vocab_size = len(corpus.dictionary)\n",
    "num_batches = ids.size(1) // seq_length"
   ]
  },
  {
   "cell_type": "markdown",
   "metadata": {},
   "source": [
    "创建RNN网络"
   ]
  },
  {
   "cell_type": "code",
   "execution_count": 12,
   "metadata": {},
   "outputs": [],
   "source": [
    "class RNNLM(nn.Module):\n",
    "    def __init__(self, vocab_size, embed_size, hidden_size, num_layers):\n",
    "        super(RNNLM, self).__init__()\n",
    "        # 词向量嵌入层\n",
    "        self.embed = nn.Embedding(vocab_size, embed_size)\n",
    "        # LSTM层\n",
    "        self.lstm = nn.LSTM(embed_size, hidden_size, num_layers, batch_first=True)\n",
    "        # 全连接层\n",
    "        self.linear = nn.Linear(hidden_size, vocab_size)\n",
    "        \n",
    "    def forward(self, x, h):\n",
    "        # 词向量嵌入层\n",
    "        x = self.embed(x)\n",
    "        \n",
    "        # LSTM计算\n",
    "        out, (h, c) = self.lstm(x, h)\n",
    "        \n",
    "        # 将输出转化为 (batch_size*sequence_length, hidden_size)，注意这里不再使用最后一个节点输出了\n",
    "        out = out.reshape(out.size(0)*out.size(1), out.size(2))\n",
    "        \n",
    "        # 全连接\n",
    "        out = self.linear(out)\n",
    "        return out, (h, c)"
   ]
  },
  {
   "cell_type": "markdown",
   "metadata": {},
   "source": [
    "创建模型"
   ]
  },
  {
   "cell_type": "code",
   "execution_count": 15,
   "metadata": {},
   "outputs": [],
   "source": [
    "model = RNNLM(vocab_size, embed_size, hidden_size, num_layers).to(device)\n",
    "\n",
    "\n",
    "criterion = nn.CrossEntropyLoss()\n",
    "optimizer = torch.optim.Adam(model.parameters(), lr=learning_rate)"
   ]
  },
  {
   "cell_type": "markdown",
   "metadata": {},
   "source": [
    "训练模型"
   ]
  },
  {
   "cell_type": "code",
   "execution_count": 17,
   "metadata": {},
   "outputs": [
    {
     "name": "stdout",
     "output_type": "stream",
     "text": [
      "Epoch [1/5], Step[0/1549], Loss: 2.8639, Perplexity: 17.53\n",
      "Epoch [1/5], Step[100/1549], Loss: 2.7045, Perplexity: 14.95\n",
      "Epoch [1/5], Step[200/1549], Loss: 2.9154, Perplexity: 18.46\n",
      "Epoch [1/5], Step[300/1549], Loss: 2.7423, Perplexity: 15.52\n",
      "Epoch [1/5], Step[400/1549], Loss: 2.8922, Perplexity: 18.03\n",
      "Epoch [1/5], Step[500/1549], Loss: 2.4438, Perplexity: 11.52\n",
      "Epoch [1/5], Step[600/1549], Loss: 2.9065, Perplexity: 18.29\n",
      "Epoch [1/5], Step[700/1549], Loss: 2.7080, Perplexity: 15.00\n",
      "Epoch [1/5], Step[800/1549], Loss: 2.8690, Perplexity: 17.62\n",
      "Epoch [1/5], Step[900/1549], Loss: 2.4707, Perplexity: 11.83\n",
      "Epoch [1/5], Step[1000/1549], Loss: 2.6458, Perplexity: 14.10\n",
      "Epoch [1/5], Step[1100/1549], Loss: 2.7390, Perplexity: 15.47\n",
      "Epoch [1/5], Step[1200/1549], Loss: 2.7593, Perplexity: 15.79\n",
      "Epoch [1/5], Step[1300/1549], Loss: 2.6159, Perplexity: 13.68\n",
      "Epoch [1/5], Step[1400/1549], Loss: 2.1874, Perplexity:  8.91\n",
      "Epoch [1/5], Step[1500/1549], Loss: 2.6588, Perplexity: 14.28\n",
      "Epoch [2/5], Step[0/1549], Loss: 2.6336, Perplexity: 13.92\n",
      "Epoch [2/5], Step[100/1549], Loss: 2.5801, Perplexity: 13.20\n",
      "Epoch [2/5], Step[200/1549], Loss: 2.7645, Perplexity: 15.87\n",
      "Epoch [2/5], Step[300/1549], Loss: 2.5544, Perplexity: 12.86\n",
      "Epoch [2/5], Step[400/1549], Loss: 2.7948, Perplexity: 16.36\n",
      "Epoch [2/5], Step[500/1549], Loss: 2.3040, Perplexity: 10.01\n",
      "Epoch [2/5], Step[600/1549], Loss: 2.6970, Perplexity: 14.83\n",
      "Epoch [2/5], Step[700/1549], Loss: 2.5619, Perplexity: 12.96\n",
      "Epoch [2/5], Step[800/1549], Loss: 2.7538, Perplexity: 15.70\n",
      "Epoch [2/5], Step[900/1549], Loss: 2.3748, Perplexity: 10.75\n",
      "Epoch [2/5], Step[1000/1549], Loss: 2.4154, Perplexity: 11.19\n",
      "Epoch [2/5], Step[1100/1549], Loss: 2.7000, Perplexity: 14.88\n",
      "Epoch [2/5], Step[1200/1549], Loss: 2.6148, Perplexity: 13.66\n",
      "Epoch [2/5], Step[1300/1549], Loss: 2.4354, Perplexity: 11.42\n",
      "Epoch [2/5], Step[1400/1549], Loss: 2.0608, Perplexity:  7.85\n",
      "Epoch [2/5], Step[1500/1549], Loss: 2.4801, Perplexity: 11.94\n",
      "Epoch [3/5], Step[0/1549], Loss: 2.4998, Perplexity: 12.18\n",
      "Epoch [3/5], Step[100/1549], Loss: 2.3767, Perplexity: 10.77\n",
      "Epoch [3/5], Step[200/1549], Loss: 2.6129, Perplexity: 13.64\n",
      "Epoch [3/5], Step[300/1549], Loss: 2.5019, Perplexity: 12.21\n",
      "Epoch [3/5], Step[400/1549], Loss: 2.5424, Perplexity: 12.71\n",
      "Epoch [3/5], Step[500/1549], Loss: 2.1965, Perplexity:  8.99\n",
      "Epoch [3/5], Step[600/1549], Loss: 2.6255, Perplexity: 13.81\n",
      "Epoch [3/5], Step[700/1549], Loss: 2.4609, Perplexity: 11.72\n",
      "Epoch [3/5], Step[800/1549], Loss: 2.6614, Perplexity: 14.32\n",
      "Epoch [3/5], Step[900/1549], Loss: 2.3490, Perplexity: 10.48\n",
      "Epoch [3/5], Step[1000/1549], Loss: 2.3864, Perplexity: 10.87\n",
      "Epoch [3/5], Step[1100/1549], Loss: 2.4419, Perplexity: 11.49\n",
      "Epoch [3/5], Step[1200/1549], Loss: 2.4886, Perplexity: 12.04\n",
      "Epoch [3/5], Step[1300/1549], Loss: 2.3933, Perplexity: 10.95\n",
      "Epoch [3/5], Step[1400/1549], Loss: 2.0871, Perplexity:  8.06\n",
      "Epoch [3/5], Step[1500/1549], Loss: 2.4243, Perplexity: 11.29\n",
      "Epoch [4/5], Step[0/1549], Loss: 2.4462, Perplexity: 11.54\n",
      "Epoch [4/5], Step[100/1549], Loss: 2.3502, Perplexity: 10.49\n",
      "Epoch [4/5], Step[200/1549], Loss: 2.5522, Perplexity: 12.84\n",
      "Epoch [4/5], Step[300/1549], Loss: 2.4969, Perplexity: 12.14\n",
      "Epoch [4/5], Step[400/1549], Loss: 2.4728, Perplexity: 11.86\n",
      "Epoch [4/5], Step[500/1549], Loss: 2.1885, Perplexity:  8.92\n",
      "Epoch [4/5], Step[600/1549], Loss: 2.5661, Perplexity: 13.01\n",
      "Epoch [4/5], Step[700/1549], Loss: 2.3820, Perplexity: 10.83\n",
      "Epoch [4/5], Step[800/1549], Loss: 2.6276, Perplexity: 13.84\n",
      "Epoch [4/5], Step[900/1549], Loss: 2.3539, Perplexity: 10.53\n",
      "Epoch [4/5], Step[1000/1549], Loss: 2.3399, Perplexity: 10.38\n",
      "Epoch [4/5], Step[1100/1549], Loss: 2.4750, Perplexity: 11.88\n",
      "Epoch [4/5], Step[1200/1549], Loss: 2.4798, Perplexity: 11.94\n",
      "Epoch [4/5], Step[1300/1549], Loss: 2.3971, Perplexity: 10.99\n",
      "Epoch [4/5], Step[1400/1549], Loss: 2.0064, Perplexity:  7.44\n",
      "Epoch [4/5], Step[1500/1549], Loss: 2.3864, Perplexity: 10.87\n",
      "Epoch [5/5], Step[0/1549], Loss: 2.4438, Perplexity: 11.52\n",
      "Epoch [5/5], Step[100/1549], Loss: 2.2727, Perplexity:  9.71\n",
      "Epoch [5/5], Step[200/1549], Loss: 2.4419, Perplexity: 11.49\n",
      "Epoch [5/5], Step[300/1549], Loss: 2.4331, Perplexity: 11.39\n",
      "Epoch [5/5], Step[400/1549], Loss: 2.5140, Perplexity: 12.35\n",
      "Epoch [5/5], Step[500/1549], Loss: 2.1396, Perplexity:  8.50\n",
      "Epoch [5/5], Step[600/1549], Loss: 2.5293, Perplexity: 12.54\n",
      "Epoch [5/5], Step[700/1549], Loss: 2.3312, Perplexity: 10.29\n",
      "Epoch [5/5], Step[800/1549], Loss: 2.6185, Perplexity: 13.72\n",
      "Epoch [5/5], Step[900/1549], Loss: 2.3020, Perplexity:  9.99\n",
      "Epoch [5/5], Step[1000/1549], Loss: 2.2725, Perplexity:  9.70\n",
      "Epoch [5/5], Step[1100/1549], Loss: 2.4449, Perplexity: 11.53\n",
      "Epoch [5/5], Step[1200/1549], Loss: 2.5057, Perplexity: 12.25\n",
      "Epoch [5/5], Step[1300/1549], Loss: 2.3207, Perplexity: 10.18\n",
      "Epoch [5/5], Step[1400/1549], Loss: 2.0092, Perplexity:  7.46\n",
      "Epoch [5/5], Step[1500/1549], Loss: 2.3079, Perplexity: 10.05\n"
     ]
    }
   ],
   "source": [
    "# 训练loop\n",
    "for epoch in range(num_epochs):\n",
    "    # 设置状态量\n",
    "    states = (torch.zeros(num_layers, batch_size, hidden_size).to(device),\n",
    "              torch.zeros(num_layers, batch_size, hidden_size).to(device))\n",
    "    \n",
    "    for i in range(0, ids.size(1) - seq_length, seq_length):\n",
    "        # 获取输入/输出的batch\n",
    "        inputs = ids[:, i:i+seq_length].to(device)\n",
    "        targets = ids[:, (i+1):(i+1)+seq_length].to(device)\n",
    "        \n",
    "        # 前向传递\n",
    "        states = [state.detach() for state in states] \n",
    "        outputs, states = model(inputs, states)\n",
    "        loss = criterion(outputs, targets.reshape(-1))\n",
    "        \n",
    "        # 参数更新\n",
    "        optimizer.zero_grad()\n",
    "        loss.backward()\n",
    "        # 梯度裁剪，防止异常点对模型较大的影响\n",
    "        clip_grad_norm_(model.parameters(), 0.5)\n",
    "        optimizer.step()\n",
    "\n",
    "        step = (i+1) // seq_length\n",
    "        if step % 100 == 0:\n",
    "            print ('Epoch [{}/{}], Step[{}/{}], Loss: {:.4f}, Perplexity: {:5.2f}'\n",
    "                   .format(epoch+1, num_epochs, step, num_batches, loss.item(), np.exp(loss.item())))\n"
   ]
  },
  {
   "cell_type": "markdown",
   "metadata": {},
   "source": [
    "测试模型"
   ]
  },
  {
   "cell_type": "code",
   "execution_count": null,
   "metadata": {},
   "outputs": [
    {
     "name": "stdout",
     "output_type": "stream",
     "text": [
      "Sampled [100/1000] words and save to sample.txt\n",
      "Sampled [200/1000] words and save to sample.txt\n",
      "Sampled [300/1000] words and save to sample.txt\n",
      "Sampled [400/1000] words and save to sample.txt\n",
      "Sampled [500/1000] words and save to sample.txt\n"
     ]
    }
   ],
   "source": [
    "with torch.no_grad():\n",
    "    with open('sample.txt', 'w') as f:\n",
    "        # 初始化状态量\n",
    "        state = (torch.zeros(num_layers, 1, hidden_size).to(device),\n",
    "                 torch.zeros(num_layers, 1, hidden_size).to(device))\n",
    "\n",
    "        # 随机选择一个词\n",
    "        prob = torch.ones(vocab_size)\n",
    "        input = torch.multinomial(prob, num_samples=1).unsqueeze(1).to(device)\n",
    "\n",
    "        for i in range(num_samples):\n",
    "            # 前向计算RNN\n",
    "            output, state = model(input, state)\n",
    "\n",
    "            # 计算输出的指数\n",
    "            prob = output.exp()\n",
    "            # 对输出进行采样，返回索引（选择最大的，返回索引？）\n",
    "            word_id = torch.multinomial(prob, num_samples=1).item()\n",
    "\n",
    "            # 填充新的词到input的后面\n",
    "            input.fill_(word_id)\n",
    "\n",
    "            # File write\n",
    "            word = corpus.dictionary.idx2word[word_id]\n",
    "            word = '\\n' if word == '<eos>' else word + ' '\n",
    "            f.write(word)\n",
    "\n",
    "            if (i+1) % 100 == 0:\n",
    "                print('Sampled [{}/{}] words and save to {}'.format(i+1, num_samples, 'sample.txt'))"
   ]
  },
  {
   "cell_type": "code",
   "execution_count": null,
   "metadata": {},
   "outputs": [],
   "source": []
  }
 ],
 "metadata": {
  "kernelspec": {
   "display_name": "Python 3",
   "language": "python",
   "name": "python3"
  },
  "language_info": {
   "codemirror_mode": {
    "name": "ipython",
    "version": 3
   },
   "file_extension": ".py",
   "mimetype": "text/x-python",
   "name": "python",
   "nbconvert_exporter": "python",
   "pygments_lexer": "ipython3",
   "version": "3.7.4"
  }
 },
 "nbformat": 4,
 "nbformat_minor": 4
}
