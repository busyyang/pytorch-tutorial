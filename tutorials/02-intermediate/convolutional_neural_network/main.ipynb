{
 "cells": [
  {
   "cell_type": "markdown",
   "metadata": {},
   "source": [
    "导入需要使用到的包"
   ]
  },
  {
   "cell_type": "code",
   "execution_count": 4,
   "metadata": {},
   "outputs": [],
   "source": [
    "import torch \n",
    "import torch.nn as nn\n",
    "import torchvision\n",
    "import torchvision.transforms as transforms\n",
    "\n",
    "# 使用GPU设备\n",
    "device=torch.device('cuda' if torch.cuda.is_available() else 'cpu')"
   ]
  },
  {
   "cell_type": "markdown",
   "metadata": {},
   "source": [
    "配置超参数"
   ]
  },
  {
   "cell_type": "code",
   "execution_count": 5,
   "metadata": {},
   "outputs": [],
   "source": [
    "num_epochs = 5\n",
    "num_classes = 10\n",
    "batch_size = 100\n",
    "learning_rate = 0.001"
   ]
  },
  {
   "cell_type": "markdown",
   "metadata": {},
   "source": [
    "创建数据集"
   ]
  },
  {
   "cell_type": "code",
   "execution_count": 6,
   "metadata": {},
   "outputs": [],
   "source": [
    "# MNIST dataset\n",
    "train_dataset = torchvision.datasets.MNIST(root='../../data/',\n",
    "                                           train=True, \n",
    "                                           transform=transforms.ToTensor(),\n",
    "                                           download=True)\n",
    "\n",
    "test_dataset = torchvision.datasets.MNIST(root='../../data/',\n",
    "                                          train=False, \n",
    "                                          transform=transforms.ToTensor())\n",
    "\n",
    "# Data loader\n",
    "train_loader = torch.utils.data.DataLoader(dataset=train_dataset,\n",
    "                                           batch_size=batch_size, \n",
    "                                           shuffle=True)\n",
    "\n",
    "test_loader = torch.utils.data.DataLoader(dataset=test_dataset,\n",
    "                                          batch_size=batch_size, \n",
    "                                          shuffle=False)"
   ]
  },
  {
   "cell_type": "markdown",
   "metadata": {},
   "source": [
    "创建一个卷积网络。需要使用到`Conv2d`,`BatchNorm2d`,`ReLU`,`MaxPool2d`层：\n",
    " - Conv2d: 二维卷积，Conv2d(in_channels, out_channels, kernel_size, stride=1, padding=0, dilation=1, groups=1, bias=True, padding_mode='zeros')\n",
    " - BatchNorm2d :批正则\n",
    " - MaxPool2d：2D池化"
   ]
  },
  {
   "cell_type": "code",
   "execution_count": 8,
   "metadata": {},
   "outputs": [],
   "source": [
    "class ConvNet(nn.Module):\n",
    "    def __init__(self,output_size=10):\n",
    "        super(ConvNet,self).__init__()\n",
    "        self.layer1=nn.Sequential(\n",
    "            nn.Conv2d(1,16,kernel_size=5,stride=1,padding=2),\n",
    "            nn.BatchNorm2d(16),\n",
    "            nn.ReLU(),\n",
    "            nn.MaxPool2d(kernel_size=2,stride=2)\n",
    "        )\n",
    "        self.layer2=nn.Sequential(\n",
    "            nn.Conv2d(16, 32, kernel_size=5, stride=1, padding=2),\n",
    "            nn.BatchNorm2d(32),\n",
    "            nn.ReLU(),\n",
    "            nn.MaxPool2d(kernel_size=2, stride=2)\n",
    "        )\n",
    "        ## padding=2表示same padding,但是两次Pooling，所以特征图大小为28/2/2=7。\n",
    "        self.fc=nn.Linear(7*7*32,output_size)\n",
    "    def forward(self,x):\n",
    "        out=self.layer1(x)\n",
    "        out=self.layer2(out)\n",
    "        out=out.reshape(out.size(0),-1)\n",
    "        return self.fc(out)"
   ]
  },
  {
   "cell_type": "markdown",
   "metadata": {},
   "source": [
    "构建模型并训练："
   ]
  },
  {
   "cell_type": "code",
   "execution_count": 11,
   "metadata": {},
   "outputs": [
    {
     "name": "stdout",
     "output_type": "stream",
     "text": [
      "Epoch [1/5], Step [100/600], Loss: 0.2332\n",
      "Epoch [1/5], Step [200/600], Loss: 0.0489\n",
      "Epoch [1/5], Step [300/600], Loss: 0.1306\n",
      "Epoch [1/5], Step [400/600], Loss: 0.0822\n",
      "Epoch [1/5], Step [500/600], Loss: 0.0479\n",
      "Epoch [1/5], Step [600/600], Loss: 0.0220\n",
      "Epoch [2/5], Step [100/600], Loss: 0.0707\n",
      "Epoch [2/5], Step [200/600], Loss: 0.0397\n",
      "Epoch [2/5], Step [300/600], Loss: 0.0919\n",
      "Epoch [2/5], Step [400/600], Loss: 0.0293\n",
      "Epoch [2/5], Step [500/600], Loss: 0.0366\n",
      "Epoch [2/5], Step [600/600], Loss: 0.0599\n",
      "Epoch [3/5], Step [100/600], Loss: 0.0413\n",
      "Epoch [3/5], Step [200/600], Loss: 0.0160\n",
      "Epoch [3/5], Step [300/600], Loss: 0.0082\n",
      "Epoch [3/5], Step [400/600], Loss: 0.0267\n",
      "Epoch [3/5], Step [500/600], Loss: 0.1212\n",
      "Epoch [3/5], Step [600/600], Loss: 0.0809\n",
      "Epoch [4/5], Step [100/600], Loss: 0.0452\n",
      "Epoch [4/5], Step [200/600], Loss: 0.0227\n",
      "Epoch [4/5], Step [300/600], Loss: 0.0842\n",
      "Epoch [4/5], Step [400/600], Loss: 0.0389\n",
      "Epoch [4/5], Step [500/600], Loss: 0.0217\n",
      "Epoch [4/5], Step [600/600], Loss: 0.0324\n",
      "Epoch [5/5], Step [100/600], Loss: 0.0154\n",
      "Epoch [5/5], Step [200/600], Loss: 0.0237\n",
      "Epoch [5/5], Step [300/600], Loss: 0.0279\n",
      "Epoch [5/5], Step [400/600], Loss: 0.0243\n",
      "Epoch [5/5], Step [500/600], Loss: 0.0198\n",
      "Epoch [5/5], Step [600/600], Loss: 0.0237\n"
     ]
    }
   ],
   "source": [
    "model=ConvNet(num_classes).to(device)\n",
    "criterion=nn.CrossEntropyLoss()\n",
    "optimizer=torch.optim.Adam(model.parameters(),lr=learning_rate)\n",
    "total_step = len(train_loader)\n",
    "for epoch in range(num_epochs):\n",
    "    for i, (images, labels) in enumerate(train_loader):\n",
    "        images = images.to(device)\n",
    "        labels = labels.to(device)\n",
    "        \n",
    "        # Forward pass\n",
    "        outputs = model(images)\n",
    "        loss = criterion(outputs, labels)\n",
    "        \n",
    "        # Backward and optimize\n",
    "        optimizer.zero_grad()\n",
    "        loss.backward()\n",
    "        optimizer.step()\n",
    "        \n",
    "        if (i+1) % 100 == 0:\n",
    "            print ('Epoch [{}/{}], Step [{}/{}], Loss: {:.4f}' \n",
    "                   .format(epoch+1, num_epochs, i+1, total_step, loss.item()))"
   ]
  },
  {
   "cell_type": "markdown",
   "metadata": {},
   "source": [
    "测试模型：\n",
    "当模型中有使用到BatchNorm或者Dropout的时候，就需要在测试之前声明是测试模式：\n",
    "~~~\n",
    "model.eval()\n",
    "~~~\n",
    "这是由于训练时通常采用mini-batch，所以每一批中的mean和std大致是相同的；而测试阶段往往是单个图像的输入，不存在mini-batch的概念。所以将model改为eval模式后，BN的参数固定，并采用之前训练好的全局的mean和std。"
   ]
  },
  {
   "cell_type": "code",
   "execution_count": 12,
   "metadata": {},
   "outputs": [
    {
     "name": "stdout",
     "output_type": "stream",
     "text": [
      "Test Accuracy of the model on the 10000 test images: 99.15 %\n"
     ]
    }
   ],
   "source": [
    "model.eval()\n",
    "with torch.no_grad():\n",
    "    correct = 0\n",
    "    total = 0\n",
    "    for images, labels in test_loader:\n",
    "        images = images.to(device)\n",
    "        labels = labels.to(device)\n",
    "        outputs = model(images)\n",
    "        _, predicted = torch.max(outputs.data, 1)\n",
    "        total += labels.size(0)\n",
    "        correct += (predicted == labels).sum().item()\n",
    "\n",
    "    print('Test Accuracy of the model on the 10000 test images: {} %'.format(100 * correct / total))"
   ]
  },
  {
   "cell_type": "markdown",
   "metadata": {},
   "source": [
    "模型表现由前面的98%提升到了99%了。保存收工。"
   ]
  },
  {
   "cell_type": "code",
   "execution_count": 13,
   "metadata": {},
   "outputs": [],
   "source": [
    "torch.save(model.state_dict(), 'model.ckpt')"
   ]
  },
  {
   "cell_type": "code",
   "execution_count": null,
   "metadata": {},
   "outputs": [],
   "source": []
  }
 ],
 "metadata": {
  "kernelspec": {
   "display_name": "Python 3",
   "language": "python",
   "name": "python3"
  },
  "language_info": {
   "codemirror_mode": {
    "name": "ipython",
    "version": 3
   },
   "file_extension": ".py",
   "mimetype": "text/x-python",
   "name": "python",
   "nbconvert_exporter": "python",
   "pygments_lexer": "ipython3",
   "version": "3.7.4"
  }
 },
 "nbformat": 4,
 "nbformat_minor": 4
}
