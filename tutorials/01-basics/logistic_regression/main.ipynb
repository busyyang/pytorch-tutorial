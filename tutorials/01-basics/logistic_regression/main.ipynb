{
 "cells": [
  {
   "cell_type": "markdown",
   "metadata": {},
   "source": [
    "首先先导入需要使用到的包"
   ]
  },
  {
   "cell_type": "code",
   "execution_count": 1,
   "metadata": {},
   "outputs": [],
   "source": [
    "import torch\n",
    "import torch.nn as nn\n",
    "import torchvision\n",
    "import torchvision.transforms as transforms"
   ]
  },
  {
   "cell_type": "markdown",
   "metadata": {},
   "source": [
    "配置一些需要使用到的超参数"
   ]
  },
  {
   "cell_type": "code",
   "execution_count": 2,
   "metadata": {},
   "outputs": [],
   "source": [
    "input_size = 28 * 28    # 784\n",
    "num_classes = 10\n",
    "num_epochs = 5\n",
    "batch_size = 100\n",
    "learning_rate = 0.001"
   ]
  },
  {
   "cell_type": "markdown",
   "metadata": {},
   "source": [
    "这里采用MNIST数据集，可以通过torchvision获取："
   ]
  },
  {
   "cell_type": "code",
   "execution_count": 6,
   "metadata": {},
   "outputs": [
    {
     "name": "stdout",
     "output_type": "stream",
     "text": [
      "Downloading http://yann.lecun.com/exdb/mnist/train-images-idx3-ubyte.gz to ../../data\\MNIST\\raw\\train-images-idx3-ubyte.gz\n"
     ]
    },
    {
     "name": "stderr",
     "output_type": "stream",
     "text": [
      "100%|██████████████████████████████████████████████████████████████████████████████████████████████████████████▉| 9912320/9912422 [04:47<00:00, 15980.37it/s]"
     ]
    },
    {
     "name": "stdout",
     "output_type": "stream",
     "text": [
      "Extracting ../../data\\MNIST\\raw\\train-images-idx3-ubyte.gz to ../../data\\MNIST\\raw\n",
      "Downloading http://yann.lecun.com/exdb/mnist/train-labels-idx1-ubyte.gz to ../../data\\MNIST\\raw\\train-labels-idx1-ubyte.gz\n"
     ]
    },
    {
     "name": "stderr",
     "output_type": "stream",
     "text": [
      "\n",
      "0it [00:00, ?it/s]\n",
      "  0%|                                                                                                                              | 0/28881 [00:00<?, ?it/s]\n",
      " 28%|███████████████████████████████▊                                                                                | 8192/28881 [00:00<00:00, 38744.97it/s]\n",
      "32768it [00:01, 26574.76it/s]                                                                                                                                \n"
     ]
    },
    {
     "name": "stdout",
     "output_type": "stream",
     "text": [
      "Extracting ../../data\\MNIST\\raw\\train-labels-idx1-ubyte.gz to ../../data\\MNIST\\raw\n",
      "Downloading http://yann.lecun.com/exdb/mnist/t10k-images-idx3-ubyte.gz to ../../data\\MNIST\\raw\\t10k-images-idx3-ubyte.gz\n"
     ]
    },
    {
     "name": "stderr",
     "output_type": "stream",
     "text": [
      "\n",
      "0it [00:00, ?it/s]\n",
      "  0%|                                                                                                                            | 0/1648877 [00:00<?, ?it/s]\n",
      "  1%|█                                                                                                           | 16384/1648877 [00:00<00:10, 162651.57it/s]\n",
      "  1%|█▌                                                                                                           | 24576/1648877 [00:00<00:20, 80805.88it/s]\n",
      "  3%|███▊                                                                                                        | 57344/1648877 [00:01<00:15, 104029.73it/s]\n",
      "  6%|██████▍                                                                                                     | 98304/1648877 [00:01<00:14, 104610.94it/s]\n",
      "  7%|███████▉                                                                                                   | 122880/1648877 [00:01<00:13, 117235.27it/s]\n",
      "  9%|██████████                                                                                                 | 155648/1648877 [00:01<00:10, 136060.93it/s]\n",
      " 11%|████████████▏                                                                                              | 188416/1648877 [00:02<00:13, 105847.34it/s]\n",
      " 24%|█████████████████████████▌                                                                                 | 393216/1648877 [00:02<00:08, 144140.53it/s]\n",
      " 28%|██████████████████████████████▎                                                                            | 466944/1648877 [00:02<00:06, 177321.79it/s]\n",
      " 31%|████████████████████████████████▉                                                                          | 507904/1648877 [00:02<00:05, 206035.64it/s]\n",
      " 33%|███████████████████████████████████▌                                                                       | 548864/1648877 [00:03<00:05, 191707.29it/s]\n",
      " 41%|███████████████████████████████████████████▌                                                               | 671744/1648877 [00:03<00:03, 248059.02it/s]\n",
      " 44%|██████████████████████████████████████████████▊                                                            | 720896/1648877 [00:03<00:05, 167776.70it/s]\n",
      " 47%|█████████████████████████████████████████████████▉                                                         | 770048/1648877 [00:03<00:04, 196874.14it/s]\n",
      " 49%|████████████████████████████████████████████████████▋                                                      | 811008/1648877 [00:03<00:03, 214504.88it/s]\n",
      " 51%|██████████████████████████████████████████████████████▊                                                    | 843776/1648877 [00:04<00:03, 215422.70it/s]\n",
      " 54%|█████████████████████████████████████████████████████████▍                                                 | 884736/1648877 [00:04<00:03, 197295.36it/s]\n",
      " 58%|██████████████████████████████████████████████████████████████▏                                            | 958464/1648877 [00:04<00:02, 244142.22it/s]\n",
      " 61%|████████████████████████████████████████████████████████████████▊                                          | 999424/1648877 [00:04<00:03, 175380.87it/s]\n",
      " 65%|████████████████████████████████████████████████████████████████████▍                                     | 1064960/1648877 [00:05<00:02, 221642.47it/s]\n",
      " 67%|███████████████████████████████████████████████████████████████████████                                   | 1105920/1648877 [00:05<00:03, 162512.96it/s]\n",
      " 70%|█████████████████████████████████████████████████████████████████████████▋                                | 1146880/1648877 [00:05<00:02, 176953.29it/s]\n",
      " 73%|█████████████████████████████████████████████████████████████████████████████▍                            | 1204224/1648877 [00:05<00:02, 186402.00it/s]\n",
      " 76%|████████████████████████████████████████████████████████████████████████████████▌                         | 1253376/1648877 [00:06<00:03, 128246.88it/s]\n",
      " 84%|█████████████████████████████████████████████████████████████████████████████████████████                 | 1384448/1648877 [00:06<00:01, 173420.66it/s]\n",
      " 87%|████████████████████████████████████████████████████████████████████████████████████████████▏             | 1433600/1648877 [00:07<00:01, 131241.54it/s]\n",
      " 93%|███████████████████████████████████████████████████████████████████████████████████████████████████       | 1540096/1648877 [00:07<00:00, 172323.46it/s]\n",
      " 96%|██████████████████████████████████████████████████████████████████████████████████████████████████████▏   | 1589248/1648877 [00:07<00:00, 210223.29it/s]"
     ]
    },
    {
     "name": "stdout",
     "output_type": "stream",
     "text": [
      "Extracting ../../data\\MNIST\\raw\\t10k-images-idx3-ubyte.gz to ../../data\\MNIST\\raw\n",
      "Downloading http://yann.lecun.com/exdb/mnist/t10k-labels-idx1-ubyte.gz to ../../data\\MNIST\\raw\\t10k-labels-idx1-ubyte.gz\n"
     ]
    },
    {
     "name": "stderr",
     "output_type": "stream",
     "text": [
      "\n",
      "\n",
      "0it [00:00, ?it/s]\n",
      "\n",
      "  0%|                                                                                                                               | 0/4542 [00:00<?, ?it/s]\n",
      "\n",
      "8192it [00:01, 6607.31it/s]                                                                                                                                  \n"
     ]
    },
    {
     "name": "stdout",
     "output_type": "stream",
     "text": [
      "Extracting ../../data\\MNIST\\raw\\t10k-labels-idx1-ubyte.gz to ../../data\\MNIST\\raw\n",
      "Processing...\n",
      "Done!\n"
     ]
    }
   ],
   "source": [
    "# 获取数据集\n",
    "train_dataset=torchvision.datasets.MNIST(root='../../data', # 文件夹位置\n",
    "                                         train=True, # 是否为训练数据\n",
    "                                         transform=transforms.ToTensor(), # 转化为Tensor\n",
    "                                         download=True # 下载数据集\n",
    "                                        )\n",
    "test_dataset=torchvision.datasets.MNIST(root='../../data', # 文件夹位置\n",
    "                                         train=False, # 是否为训练数据\n",
    "                                         transform=transforms.ToTensor(), # 转化为Tensor\n",
    "                                         download=True # 下载数据集\n",
    "                                        )\n",
    "\n",
    "# 构建DataLoader\n",
    "train_Loader=torch.utils.data.DataLoader(dataset=train_dataset,\n",
    "                                        batch_size=batch_size,\n",
    "                                        shuffle=True # 表示打乱顺序\n",
    "                                        )\n",
    "test_Loader=torch.utils.data.DataLoader(dataset=test_dataset,\n",
    "                                        batch_size=batch_size,\n",
    "                                        shuffle=True # 表示打乱顺序\n",
    "                                       )"
   ]
  },
  {
   "cell_type": "markdown",
   "metadata": {},
   "source": [
    "构建模型，这里还是用`nn.Linear()`来创建模型即可，但是MNIST数据集是识别0-9十个手写数字，属于分类问题，所以不能再使用MSE作为损失函数，需要使用到交叉熵等分类问题的损失函数。"
   ]
  },
  {
   "cell_type": "code",
   "execution_count": 11,
   "metadata": {},
   "outputs": [],
   "source": [
    "model=nn.Linear(input_size,num_classes) # 输入是28*28长度的数据，输出是0-9的分类\n",
    "criterion = nn.CrossEntropyLoss()\n",
    "optimizer=torch.optim.SGD(model.parameters(),lr=learning_rate)"
   ]
  },
  {
   "cell_type": "markdown",
   "metadata": {},
   "source": [
    "开始训练："
   ]
  },
  {
   "cell_type": "code",
   "execution_count": 13,
   "metadata": {},
   "outputs": [
    {
     "name": "stdout",
     "output_type": "stream",
     "text": [
      "Epoch [1/5], Step [100/600], Loss: 2.2415\n",
      "Epoch [1/5], Step [200/600], Loss: 2.1421\n",
      "Epoch [1/5], Step [300/600], Loss: 2.0666\n",
      "Epoch [1/5], Step [400/600], Loss: 1.9918\n",
      "Epoch [1/5], Step [500/600], Loss: 1.9023\n",
      "Epoch [1/5], Step [600/600], Loss: 1.7863\n",
      "Epoch [2/5], Step [100/600], Loss: 1.7364\n",
      "Epoch [2/5], Step [200/600], Loss: 1.7174\n",
      "Epoch [2/5], Step [300/600], Loss: 1.6819\n",
      "Epoch [2/5], Step [400/600], Loss: 1.6513\n",
      "Epoch [2/5], Step [500/600], Loss: 1.5890\n",
      "Epoch [2/5], Step [600/600], Loss: 1.4919\n",
      "Epoch [3/5], Step [100/600], Loss: 1.4624\n",
      "Epoch [3/5], Step [200/600], Loss: 1.3701\n",
      "Epoch [3/5], Step [300/600], Loss: 1.3490\n",
      "Epoch [3/5], Step [400/600], Loss: 1.2533\n",
      "Epoch [3/5], Step [500/600], Loss: 1.3034\n",
      "Epoch [3/5], Step [600/600], Loss: 1.3121\n",
      "Epoch [4/5], Step [100/600], Loss: 1.2254\n",
      "Epoch [4/5], Step [200/600], Loss: 1.2649\n",
      "Epoch [4/5], Step [300/600], Loss: 1.1827\n",
      "Epoch [4/5], Step [400/600], Loss: 1.0744\n",
      "Epoch [4/5], Step [500/600], Loss: 1.1200\n",
      "Epoch [4/5], Step [600/600], Loss: 1.0177\n",
      "Epoch [5/5], Step [100/600], Loss: 1.0428\n",
      "Epoch [5/5], Step [200/600], Loss: 1.1181\n",
      "Epoch [5/5], Step [300/600], Loss: 0.9903\n",
      "Epoch [5/5], Step [400/600], Loss: 1.0323\n",
      "Epoch [5/5], Step [500/600], Loss: 1.0667\n",
      "Epoch [5/5], Step [600/600], Loss: 1.0824\n"
     ]
    }
   ],
   "source": [
    "total_step = len(train_Loader)\n",
    "for epoch in range(num_epochs):\n",
    "    for i, (images, labels) in enumerate(train_Loader):\n",
    "        # 由于图像是28*28*1的矩阵，而模型是28*28=784的序列，需要reshape一下\n",
    "        images = images.reshape(-1, input_size)\n",
    "        \n",
    "        # 前向传播\n",
    "        outputs = model(images)\n",
    "        loss = criterion(outputs, labels)\n",
    "        \n",
    "        # 反向传播\n",
    "        optimizer.zero_grad()\n",
    "        loss.backward()\n",
    "        optimizer.step()\n",
    "        \n",
    "        if (i+1) % 100 == 0:\n",
    "            print ('Epoch [{}/{}], Step [{}/{}], Loss: {:.4f}' \n",
    "                   .format(epoch+1, num_epochs, i+1, total_step, loss.item()))"
   ]
  },
  {
   "cell_type": "code",
   "execution_count": null,
   "metadata": {},
   "outputs": [],
   "source": [
    "测试模型，由于测试的时候不需要计算梯度，这样可以"
   ]
  }
 ],
 "metadata": {
  "kernelspec": {
   "display_name": "Python 3",
   "language": "python",
   "name": "python3"
  },
  "language_info": {
   "codemirror_mode": {
    "name": "ipython",
    "version": 3
   },
   "file_extension": ".py",
   "mimetype": "text/x-python",
   "name": "python",
   "nbconvert_exporter": "python",
   "pygments_lexer": "ipython3",
   "version": "3.7.4"
  }
 },
 "nbformat": 4,
 "nbformat_minor": 4
}
