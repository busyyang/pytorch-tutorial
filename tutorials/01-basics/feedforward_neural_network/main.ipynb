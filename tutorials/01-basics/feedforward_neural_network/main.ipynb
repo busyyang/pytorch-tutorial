{
 "cells": [
  {
   "cell_type": "markdown",
   "metadata": {},
   "source": [
    "导入需要使用的库"
   ]
  },
  {
   "cell_type": "code",
   "execution_count": 3,
   "metadata": {},
   "outputs": [],
   "source": [
    "import torch\n",
    "import torch.nn as nn\n",
    "import torchvision\n",
    "import torchvision.transforms as transforms"
   ]
  },
  {
   "cell_type": "markdown",
   "metadata": {},
   "source": [
    "配置超参数"
   ]
  },
  {
   "cell_type": "code",
   "execution_count": 5,
   "metadata": {},
   "outputs": [],
   "source": [
    "input_size = 784 # 输入的尺寸，使用MNIST还是 28*28*1的灰度图片\n",
    "hidden_size = 500 # 隐藏层的大小\n",
    "num_classes = 10 # 输出层大小\n",
    "num_epochs = 5\n",
    "batch_size = 100\n",
    "learning_rate = 0.001"
   ]
  },
  {
   "cell_type": "markdown",
   "metadata": {},
   "source": [
    "由于这个训练的模型比前面的大，如果有GPU就使用GPU训练，需要使用到："
   ]
  },
  {
   "cell_type": "code",
   "execution_count": 23,
   "metadata": {},
   "outputs": [
    {
     "name": "stdout",
     "output_type": "stream",
     "text": [
      "cuda\n"
     ]
    }
   ],
   "source": [
    "device=torch.device('cuda' if torch.cuda.is_available() else 'cpu')\n",
    "print(device)"
   ]
  },
  {
   "cell_type": "markdown",
   "metadata": {},
   "source": [
    "创建数据集："
   ]
  },
  {
   "cell_type": "code",
   "execution_count": 9,
   "metadata": {},
   "outputs": [],
   "source": [
    "# 获取数据集\n",
    "train_dataset=torchvision.datasets.MNIST(root='../../data', # 文件夹位置\n",
    "                                         train=True, # 是否为训练数据\n",
    "                                         transform=transforms.ToTensor(), # 转化为Tensor\n",
    "                                         download=True # 下载数据集\n",
    "                                        )\n",
    "test_dataset=torchvision.datasets.MNIST(root='../../data', # 文件夹位置\n",
    "                                         train=False, # 是否为训练数据\n",
    "                                         transform=transforms.ToTensor(), # 转化为Tensor\n",
    "                                         download=True # 下载数据集\n",
    "                                        )\n",
    "\n",
    "# 构建DataLoader\n",
    "train_Loader=torch.utils.data.DataLoader(dataset=train_dataset,\n",
    "                                        batch_size=batch_size,\n",
    "                                        shuffle=True # 表示打乱顺序\n",
    "                                        )\n",
    "test_Loader=torch.utils.data.DataLoader(dataset=test_dataset,\n",
    "                                        batch_size=batch_size,\n",
    "                                        shuffle=True # 表示打乱顺序\n",
    "                                       )"
   ]
  },
  {
   "cell_type": "markdown",
   "metadata": {},
   "source": [
    "通过继承`nn.Module`来创建模型："
   ]
  },
  {
   "cell_type": "code",
   "execution_count": 17,
   "metadata": {},
   "outputs": [],
   "source": [
    "class Net(nn.Module):\n",
    "    def __init__(self,input_size,hidden_size,output_size):\n",
    "        \"\"\"\n",
    "        构造函数，需要输入必要的参数,并创建对应的层\n",
    "        \"\"\"\n",
    "        super(Net,self).__init__()\n",
    "        self.fc1=nn.Linear(input_size,hidden_size)\n",
    "        self.relu=nn.ReLU()\n",
    "        self.fc2=nn.Linear(hidden_size,output_size)\n",
    "    def forward(self,x):\n",
    "        \"\"\"\n",
    "        构建计算图\n",
    "        \"\"\"\n",
    "        out=self.fc1(x)\n",
    "        out=self.relu(out)\n",
    "        out=self.fc2(out)\n",
    "        return out"
   ]
  },
  {
   "cell_type": "markdown",
   "metadata": {},
   "source": [
    "创建一个Net的实例，同样需要放在GPU上。"
   ]
  },
  {
   "cell_type": "code",
   "execution_count": 28,
   "metadata": {},
   "outputs": [],
   "source": [
    "net=Net(input_size,hidden_size,num_classes).to(device)"
   ]
  },
  {
   "cell_type": "markdown",
   "metadata": {},
   "source": [
    "构建优化器与损失函数"
   ]
  },
  {
   "cell_type": "code",
   "execution_count": 29,
   "metadata": {},
   "outputs": [],
   "source": [
    "criterion=nn.CrossEntropyLoss()\n",
    "optimizer=torch.optim.Adam(net.parameters(),lr=learning_rate)"
   ]
  },
  {
   "cell_type": "markdown",
   "metadata": {},
   "source": [
    "训练模型："
   ]
  },
  {
   "cell_type": "code",
   "execution_count": 30,
   "metadata": {},
   "outputs": [
    {
     "name": "stdout",
     "output_type": "stream",
     "text": [
      "Epoch [1/5], Step [100], Loss: 0.2008\n",
      "Epoch [1/5], Step [200], Loss: 0.2311\n",
      "Epoch [1/5], Step [300], Loss: 0.2119\n",
      "Epoch [1/5], Step [400], Loss: 0.2388\n",
      "Epoch [1/5], Step [500], Loss: 0.0688\n",
      "Epoch [1/5], Step [600], Loss: 0.1361\n",
      "Epoch [2/5], Step [100], Loss: 0.1514\n",
      "Epoch [2/5], Step [200], Loss: 0.1207\n",
      "Epoch [2/5], Step [300], Loss: 0.0711\n",
      "Epoch [2/5], Step [400], Loss: 0.1649\n",
      "Epoch [2/5], Step [500], Loss: 0.0496\n",
      "Epoch [2/5], Step [600], Loss: 0.1133\n",
      "Epoch [3/5], Step [100], Loss: 0.0604\n",
      "Epoch [3/5], Step [200], Loss: 0.0503\n",
      "Epoch [3/5], Step [300], Loss: 0.0263\n",
      "Epoch [3/5], Step [400], Loss: 0.0183\n",
      "Epoch [3/5], Step [500], Loss: 0.0439\n",
      "Epoch [3/5], Step [600], Loss: 0.0465\n",
      "Epoch [4/5], Step [100], Loss: 0.0616\n",
      "Epoch [4/5], Step [200], Loss: 0.0449\n",
      "Epoch [4/5], Step [300], Loss: 0.0643\n",
      "Epoch [4/5], Step [400], Loss: 0.0746\n",
      "Epoch [4/5], Step [500], Loss: 0.0539\n",
      "Epoch [4/5], Step [600], Loss: 0.1150\n",
      "Epoch [5/5], Step [100], Loss: 0.0459\n",
      "Epoch [5/5], Step [200], Loss: 0.0234\n",
      "Epoch [5/5], Step [300], Loss: 0.0642\n",
      "Epoch [5/5], Step [400], Loss: 0.0784\n",
      "Epoch [5/5], Step [500], Loss: 0.0423\n",
      "Epoch [5/5], Step [600], Loss: 0.0697\n"
     ]
    }
   ],
   "source": [
    "for epoch in range(num_epochs):\n",
    "    for i,(images,labels) in enumerate(train_Loader):\n",
    "        images=images.reshape(-1,28*28).to(device) # 使用GPU训练\n",
    "        labels=labels.to(device)\n",
    "        \n",
    "        # 前向计算输出值\n",
    "        outputs=net(images)\n",
    "        # 计算loss值\n",
    "        loss=criterion(outputs,labels)\n",
    "        # 反向计算\n",
    "        optimizer.zero_grad()\n",
    "        loss.backward()\n",
    "        optimizer.step()\n",
    "        if (i+1) % 100 == 0:\n",
    "            print ('Epoch [{}/{}], Step [{}], Loss: {:.4f}' \n",
    "                   .format(epoch+1, num_epochs, i+1, loss.item()))\n",
    "        "
   ]
  },
  {
   "cell_type": "markdown",
   "metadata": {},
   "source": [
    "测试模型："
   ]
  },
  {
   "cell_type": "code",
   "execution_count": null,
   "metadata": {},
   "outputs": [],
   "source": [
    "with torch.no_grad():\n",
    "    correct = 0\n",
    "    total = 0\n",
    "    for images,labels in test_Loader():\n",
    "        images=images.reshape(-1,28*28).to(device)\n",
    "        labels=labels.to(device)\n",
    "        \n",
    "        output=net(images)\n",
    "        _,predicted=torch.max(output.data,1)\n",
    "        total+=labels.size(0)\n",
    "        correct += (predicted == labels).sum().item()\n",
    "        "
   ]
  }
 ],
 "metadata": {
  "kernelspec": {
   "display_name": "Python 3",
   "language": "python",
   "name": "python3"
  },
  "language_info": {
   "codemirror_mode": {
    "name": "ipython",
    "version": 3
   },
   "file_extension": ".py",
   "mimetype": "text/x-python",
   "name": "python",
   "nbconvert_exporter": "python",
   "pygments_lexer": "ipython3",
   "version": "3.7.4"
  }
 },
 "nbformat": 4,
 "nbformat_minor": 4
}
